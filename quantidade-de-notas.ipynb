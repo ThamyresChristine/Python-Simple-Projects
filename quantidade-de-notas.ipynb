{
 "cells": [
  {
   "cell_type": "markdown",
   "metadata": {},
   "source": [
    "## Quantidade de Notas\n",
    "\n",
    "Programa para um caixa eletrônico: Elabore um programa onde o cliente informa um valor para saque e deve-se retornar a quantidade de cédulas necessárias de 50 reais, 10 reais e 1 real para o cliente sacar esse valor."
   ]
  },
  {
   "cell_type": "code",
   "execution_count": null,
   "metadata": {},
   "outputs": [],
   "source": [
    "print(\"Digite um valor numérico em reais e te direi com quantas notas de 50, 10 e 1 são necessárias para pagar o valor\")\n",
    "x = int(input())\n",
    "\n",
    "a = x//50\n",
    "\n",
    "print(\"São necessárias \", a, \" notas de 50 reais.\")\n",
    "y = x%50\n",
    "if (y != 0):\n",
    "    print(\"São necessárias \", y//10,\" notas de 10 reais.\")\n",
    "    b = y % 10\n",
    "    if (b % 10 != 0):\n",
    "        print(\"São necessárias \", b,\" notas de 1 real.\")\n",
    "        c = x % 1"
   ]
  }
 ],
 "metadata": {
  "language_info": {
   "name": "python"
  }
 },
 "nbformat": 4,
 "nbformat_minor": 2
}
