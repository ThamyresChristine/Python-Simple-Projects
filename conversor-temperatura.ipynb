{
 "cells": [
  {
   "cell_type": "markdown",
   "metadata": {},
   "source": [
    "## Conversor de Temperatura\n",
    "\n",
    "Crie um programa que converta a temperatura informada pelo usuário da escala **Celsius** para a escala **Fahrenheit**. \n",
    "\n",
    "Lembre-se: A fórmula para conversão de Celsius para Fahrenheit é: _F = ((Celsius * 9) / 5 ) + 32_"
   ]
  },
  {
   "cell_type": "code",
   "execution_count": null,
   "metadata": {},
   "outputs": [],
   "source": [
    "print(\"Digite a temperatura em Celsius.\")\n",
    "x = int(input())\n",
    "\n",
    "y = ((x*9)/5)+32\n",
    "print(\"A temperatura em Fahrenheit é \", y)"
   ]
  }
 ],
 "metadata": {
  "language_info": {
   "name": "python"
  }
 },
 "nbformat": 4,
 "nbformat_minor": 2
}
