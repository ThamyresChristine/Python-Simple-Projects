{
 "cells": [
  {
   "cell_type": "markdown",
   "metadata": {},
   "source": [
    "## Cálculo da Aprovação ou Reprovação\n",
    "\n",
    "Elabore um programa que informe a aprovação ou reprovação do estudante.\n",
    "\n",
    "O programa deve receber as notas N1, N2, N3 e fazer a média aritmética básica.\n",
    "\n",
    "O programa também deve receber a quantidade de faltas do estudante.\n",
    "\n",
    "Os critérios de aprovação seguem a seguir:\n",
    "    - Nota: média maior que 5.0\n",
    "    -  Faltas:quantidade de faltas menor que 30 (para um total de 100 aulas)\n",
    "\n",
    "Ou seja, se o estudante tiver uma média maior que 5.0, mas sua quantidade de faltas exceder o valor de 30, ele é reprovado pela abstenção."
   ]
  },
  {
   "cell_type": "code",
   "execution_count": null,
   "metadata": {},
   "outputs": [
    {
     "name": "stdout",
     "output_type": "stream",
     "text": [
      "Informe as notas da Prova 1, Prova 2 e Prova 3:\n"
     ]
    }
   ],
   "source": [
    "nota1 = float(input(\"Informe a nota da Prova 1(use o ponto em vez da vírgula):\"))\n",
    "nota2 = float(input(\"Informe a nota da Prova 2(use o ponto em vez da vírgula):\"))\n",
    "nota3 = float(input(\"Informe a nota da Prova 3(use o ponto em vez da vírgula):\"))\n",
    "\n",
    "print(\"Agora, informe a sua quantida de de faltas:\")\n",
    "faltas = int(input())\n",
    "\n",
    "\n",
    "media = (nota1 + nota2 + nota3) / 3\n",
    "\n",
    "if ( media <= 5.0) and (faltas > 30):\n",
    "    print(\"Sua média é: \", media, \" E sua quantidade de faltas é: \", faltas, \" Você foi reprovado pela média abaixo da nota de aprovação e pela quantidade de faltas.\")\n",
    "elif (media >= 5.0) and (media <= 8.0) and (faltas > 30):\n",
    "    print(\"Sua média é: \", media, \" E sua quantidade de faltas é: \", faltas, \" Mas você foi reprovado pela quantidade de faltas.\")\n",
    "elif (media >= 8.0) and (faltas > 30):\n",
    "    print(\"Sua média é: \", media, \" E sua quantidade de faltas é: \", faltas, \" Mas você foi reprovado pela quantidade de faltas.\")\n",
    "else:\n",
    "    print(\"Sua média é: \", media, \" e sua quantidade de faltas é: \", faltas, \". Você foi aprovado.\")"
   ]
  }
 ],
 "metadata": {
  "kernelspec": {
   "display_name": "Python 3",
   "language": "python",
   "name": "python3"
  },
  "language_info": {
   "codemirror_mode": {
    "name": "ipython",
    "version": 3
   },
   "file_extension": ".py",
   "mimetype": "text/x-python",
   "name": "python",
   "nbconvert_exporter": "python",
   "pygments_lexer": "ipython3",
   "version": "3.11.9"
  }
 },
 "nbformat": 4,
 "nbformat_minor": 2
}
