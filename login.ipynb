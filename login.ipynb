{
 "cells": [
  {
   "cell_type": "markdown",
   "metadata": {},
   "source": [
    "## Autenticação de um Login\n",
    "\n",
    "Elabore um programa de autenticação de login, onde o usuário possui apenas _quatro_ tentativas para colocar a senha correta. Se ele errar após a quarta tentativa, uma mensagem deve informá-lo que ele esgotou todas suas tentativas."
   ]
  },
  {
   "cell_type": "code",
   "execution_count": null,
   "metadata": {},
   "outputs": [],
   "source": [
    "tentativas = 0\n",
    "\n",
    "while tentativas < 4:\n",
    "    senha = input(\"Informe sua senha:\")\n",
    "    if (senha != \"euamosorvete\") and (tentativas < 4):\n",
    "        print(\"Senha incorreta.\")\n",
    "        tentativas +=1\n",
    "    else:\n",
    "        print(\"Senha correta\")\n",
    "    break\n",
    "\n",
    "    if (tentativas == 4):\n",
    "        print(\"Você esgotou a quantidade de tentativas.\")"
   ]
  }
 ],
 "metadata": {
  "language_info": {
   "name": "python"
  }
 },
 "nbformat": 4,
 "nbformat_minor": 2
}
